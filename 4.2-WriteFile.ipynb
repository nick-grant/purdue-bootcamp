{
 "cells": [
  {
   "cell_type": "markdown",
   "metadata": {},
   "source": [
    "<div class=\"alert alert-block alert-info\" style=\"margin-top: 20px\">\n",
    "    <a href=\"https://cocl.us/NotebooksPython101\">\n",
    "         <img src=\"https://s3-api.us-geo.objectstorage.softlayer.net/cf-courses-data/CognitiveClass/PY0101EN/Ad/TopAd.png\" width=\"750\" align=\"center\">\n",
    "    </a>\n",
    "</div>"
   ]
  },
  {
   "cell_type": "markdown",
   "metadata": {},
   "source": [
    "<a href=\"https://cognitiveclass.ai/\">\n",
    "    <img src=\"https://s3-api.us-geo.objectstorage.softlayer.net/cf-courses-data/CognitiveClass/PY0101EN/Ad/CCLog.png\" width=\"200\" align=\"center\">\n",
    "</a>"
   ]
  },
  {
   "cell_type": "markdown",
   "metadata": {},
   "source": [
    "<h1>Write and Save Files in Python</h1>"
   ]
  },
  {
   "cell_type": "markdown",
   "metadata": {},
   "source": [
    "<p><strong>Welcome!</strong> This notebook will teach you about write the text to file in the Python Programming Language. By the end of this lab, you'll know how to write to file and copy the file.</p>"
   ]
  },
  {
   "cell_type": "markdown",
   "metadata": {},
   "source": [
    "<h2>Table of Contents</h2>\n",
    "<div class=\"alert alert-block alert-info\" style=\"margin-top: 20px\">\n",
    "    <ul>\n",
    "        <li><a href=\"write\">Writing Files</a></li>\n",
    "        <li><a href=\"copy\">Copy a File</a></li>\n",
    "    </ul>\n",
    "    <p>\n",
    "        Estimated time needed: <strong>15 min</strong>\n",
    "    </p>\n",
    "</div>\n",
    "\n",
    "<hr>"
   ]
  },
  {
   "cell_type": "markdown",
   "metadata": {},
   "source": [
    "<h2 id=\"write\">Writing Files</h2>"
   ]
  },
  {
   "cell_type": "markdown",
   "metadata": {},
   "source": [
    " We can open a file object using the method <code>write()</code> to save the text file to a list. To write the mode, argument must be set to write <b>w</b>. Let’s write a file <b>Example2.txt</b> with the line: <b>“This is line A”</b>"
   ]
  },
  {
   "cell_type": "code",
   "execution_count": 3,
   "metadata": {},
   "outputs": [],
   "source": [
    "# Write line to file\n",
    "filename = 'C:/Users/Nick/Documents/Just Me/Back to School 2021/Purdue Data bootcamp/Python Elective/wget download/sampleWRITE.txt'\n",
    "with open(filename, 'w') as writefile:\n",
    "    writefile.write(\"This is line A\")"
   ]
  },
  {
   "cell_type": "markdown",
   "metadata": {},
   "source": [
    " We can read the file to see if it worked:"
   ]
  },
  {
   "cell_type": "code",
   "execution_count": 4,
   "metadata": {
    "collapsed": false,
    "jupyter": {
     "outputs_hidden": false
    }
   },
   "outputs": [
    {
     "name": "stdout",
     "output_type": "stream",
     "text": [
      "This is line A\n"
     ]
    }
   ],
   "source": [
    "# Read file\n",
    "\n",
    "with open(filename, 'r') as testwritefile:\n",
    "    print(testwritefile.read())"
   ]
  },
  {
   "cell_type": "markdown",
   "metadata": {},
   "source": [
    "We can write multiple lines:"
   ]
  },
  {
   "cell_type": "code",
   "execution_count": 5,
   "metadata": {},
   "outputs": [],
   "source": [
    "# Write lines to file\n",
    "\n",
    "with open(filename, 'w') as writefile:\n",
    "    writefile.write(\"This is line A\\n\")\n",
    "    writefile.write(\"This is line B\\n\")"
   ]
  },
  {
   "cell_type": "markdown",
   "metadata": {},
   "source": [
    "The method <code>.write()</code> works similar to the method <code>.readline()</code>, except instead of reading a new line it writes a new line. The process is illustrated in the figure , the different colour coding of the grid represents a new line added to the file after each method call."
   ]
  },
  {
   "cell_type": "markdown",
   "metadata": {},
   "source": [
    "<img src=\"https://s3-api.us-geo.objectstorage.softlayer.net/cf-courses-data/CognitiveClass/PY0101EN/Chapter%204/Images/WriteLine.png\" width=\"500\" />"
   ]
  },
  {
   "cell_type": "markdown",
   "metadata": {},
   "source": [
    "You can check the file to see if your results are correct "
   ]
  },
  {
   "cell_type": "code",
   "execution_count": 6,
   "metadata": {
    "collapsed": false,
    "jupyter": {
     "outputs_hidden": false
    }
   },
   "outputs": [
    {
     "name": "stdout",
     "output_type": "stream",
     "text": [
      "This is line A\n",
      "This is line B\n",
      "\n"
     ]
    }
   ],
   "source": [
    "# Check whether write to file\n",
    "\n",
    "with open(filename, 'r') as testwritefile:\n",
    "    print(testwritefile.read())"
   ]
  },
  {
   "cell_type": "markdown",
   "metadata": {},
   "source": [
    " By setting the mode argument to append **a**  you can append a new line as follows:"
   ]
  },
  {
   "cell_type": "code",
   "execution_count": 7,
   "metadata": {
    "collapsed": false,
    "jupyter": {
     "outputs_hidden": false
    }
   },
   "outputs": [],
   "source": [
    "# Write a new line to text file\n",
    "\n",
    "with open(filename, 'a') as testwritefile:\n",
    "    testwritefile.write(\"This is line C\\n\")"
   ]
  },
  {
   "cell_type": "markdown",
   "metadata": {},
   "source": [
    " You can verify the file has changed by running the following cell:"
   ]
  },
  {
   "cell_type": "code",
   "execution_count": 8,
   "metadata": {
    "collapsed": false,
    "jupyter": {
     "outputs_hidden": false
    }
   },
   "outputs": [
    {
     "name": "stdout",
     "output_type": "stream",
     "text": [
      "This is line A\n",
      "This is line B\n",
      "This is line C\n",
      "\n"
     ]
    }
   ],
   "source": [
    "# Verify if the new line is in the text file\n",
    "\n",
    "with open(filename, 'r') as testwritefile:\n",
    "    print(testwritefile.read())"
   ]
  },
  {
   "cell_type": "markdown",
   "metadata": {},
   "source": [
    " We write a list to a <b>.txt</b> file  as follows:"
   ]
  },
  {
   "cell_type": "code",
   "execution_count": 9,
   "metadata": {
    "collapsed": false,
    "jupyter": {
     "outputs_hidden": false
    }
   },
   "outputs": [
    {
     "data": {
      "text/plain": [
       "['This is line A\\n', 'This is line B\\n', 'This is line C\\n']"
      ]
     },
     "execution_count": 9,
     "metadata": {},
     "output_type": "execute_result"
    }
   ],
   "source": [
    "# Sample list of text\n",
    "\n",
    "Lines = [\"This is line A\\n\", \"This is line B\\n\", \"This is line C\\n\"]\n",
    "Lines"
   ]
  },
  {
   "cell_type": "code",
   "execution_count": 10,
   "metadata": {
    "collapsed": false,
    "jupyter": {
     "outputs_hidden": false
    }
   },
   "outputs": [
    {
     "name": "stdout",
     "output_type": "stream",
     "text": [
      "This is line A\n",
      "\n",
      "This is line B\n",
      "\n",
      "This is line C\n",
      "\n"
     ]
    }
   ],
   "source": [
    "# Write the strings in the list to text file\n",
    "\n",
    "with open(filename, 'w') as writefile:\n",
    "    for line in Lines:\n",
    "        print(line)\n",
    "        writefile.write(line)"
   ]
  },
  {
   "cell_type": "markdown",
   "metadata": {},
   "source": [
    " We can verify the file is written by reading it and printing out the values:  "
   ]
  },
  {
   "cell_type": "code",
   "execution_count": 11,
   "metadata": {
    "collapsed": false,
    "jupyter": {
     "outputs_hidden": false
    }
   },
   "outputs": [
    {
     "name": "stdout",
     "output_type": "stream",
     "text": [
      "This is line A\n",
      "This is line B\n",
      "This is line C\n",
      "\n"
     ]
    }
   ],
   "source": [
    "# Verify if writing to file is successfully executed\n",
    "\n",
    "with open(filename, 'r') as testwritefile:\n",
    "    print(testwritefile.read())"
   ]
  },
  {
   "cell_type": "markdown",
   "metadata": {},
   "source": [
    "We can again append to the file by changing the second parameter to <b>a</b>. This adds the code:"
   ]
  },
  {
   "cell_type": "code",
   "execution_count": 12,
   "metadata": {
    "collapsed": false,
    "jupyter": {
     "outputs_hidden": false
    }
   },
   "outputs": [],
   "source": [
    "# Append the line to the file\n",
    "\n",
    "with open(filename, 'a') as testwritefile:\n",
    "    testwritefile.write(\"This is line D\\n\")"
   ]
  },
  {
   "cell_type": "markdown",
   "metadata": {},
   "source": [
    "We can see the results of appending the file: "
   ]
  },
  {
   "cell_type": "code",
   "execution_count": 14,
   "metadata": {
    "collapsed": false,
    "jupyter": {
     "outputs_hidden": false
    }
   },
   "outputs": [
    {
     "name": "stdout",
     "output_type": "stream",
     "text": [
      "This is line A\n",
      "This is line B\n",
      "This is line C\n",
      "This is line D\n",
      "\n"
     ]
    }
   ],
   "source": [
    "# Verify if the appending is successfully executed\n",
    "\n",
    "with open(filename, 'r') as testwritefile:\n",
    "    print(testwritefile.read())"
   ]
  },
  {
   "cell_type": "markdown",
   "metadata": {},
   "source": [
    "<hr>"
   ]
  },
  {
   "cell_type": "markdown",
   "metadata": {},
   "source": [
    "<h2 id=\"copy\">Copy a File</h2> "
   ]
  },
  {
   "cell_type": "markdown",
   "metadata": {},
   "source": [
    "Let's copy the file <b>Example2.txt</b> to the file <b>Example3.txt</b>:"
   ]
  },
  {
   "cell_type": "code",
   "execution_count": 15,
   "metadata": {
    "collapsed": false,
    "jupyter": {
     "outputs_hidden": false
    }
   },
   "outputs": [],
   "source": [
    "# Copy file to another\n",
    "\n",
    "readFile = 'C:/Users/Nick/Documents/Just Me/Back to School 2021/Purdue Data bootcamp/Python Elective/wget download/sample.txt'\n",
    "\n",
    "with open(readFile,'r') as readfile:\n",
    "    with open(filename,'w') as writefile:\n",
    "          for line in readfile:\n",
    "                writefile.write(line)"
   ]
  },
  {
   "cell_type": "markdown",
   "metadata": {},
   "source": [
    "We can read the file to see if everything works:"
   ]
  },
  {
   "cell_type": "code",
   "execution_count": 16,
   "metadata": {
    "collapsed": false,
    "jupyter": {
     "outputs_hidden": false
    }
   },
   "outputs": [
    {
     "name": "stdout",
     "output_type": "stream",
     "text": [
      "txt2html/HTML::TextToHTML Sample Conversion\n",
      "\n",
      "This sample is based hugely on the original sample.txt produced\n",
      "by Seth Golub for txt2html.\n",
      "\n",
      "I used the following options to convert this document:\n",
      "\n",
      "     -titlefirst -mailmode -make_tables\n",
      "     --custom_heading_regexp '^ *--[\\w\\s]+-- *$'\n",
      "     --system_link_dict txt2html.dict\n",
      "     --append_body sample.foot --infile sample.txt --outfile sample.html\n",
      "\n",
      "This has either been done at the command line with:\n",
      "\n",
      "\tperl -MHTML::TextToHTML -e run_txt2html -- *options*\n",
      "\n",
      "or using the script\n",
      "\n",
      "\ttxt2html *options*\n",
      "\n",
      "or from a (test) perl script with:\n",
      "\t\n",
      "\tuse HTML::TextToHTML;\n",
      "\tmy $conv = new HTML::TextToHTML();\n",
      "\t$conv->txt2html([*options*]);\n",
      "\n",
      "======================================================================\n",
      "\n",
      "From bozo@clown.wustl.edu\n",
      "Return-Path: <bozo@clown.wustl.edu>\n",
      "Message-Id: <9405102200.AA04736@clown.wustl.edu>\n",
      "Content-Length: 1070\n",
      "From: bozo@clown.wustl.edu (Bozo the Clown)\n",
      "To: kitty@example.com (Kathryn Andersen)\n",
      "Subject: Re: HTML::TextToHTML\n",
      "Date: Sun, 12 May 2002 10:01:10 -0500\n",
      "\n",
      "Bozo wrote:\n",
      "BtC> Can you post an example text file with its html'ed output?\n",
      "BtC> That would provide a much better first glance at what it does\n",
      "BtC> without having to look through and see what the perl code does.\n",
      "\n",
      "Good idea.  I'll write something up.\n",
      "\n",
      "       -=-=-=-=-=-=-=-=-=-=-=-=-=-=-=-=-=-=-=-=-=-=-=-=-=-\n",
      "\n",
      "The header lines were kept separate because they looked like mail\n",
      "headers and I have mailmode on.  The same thing applies to Bozo's\n",
      "quoted text.  Mailmode doesn't screw things up very often, but since\n",
      "most people are usually converting non-mail, it's off by default.\n",
      "\n",
      "Paragraphs are handled ok.  In fact, this one is here just to\n",
      "demonstrate that.\n",
      "\n",
      "THIS LINE IS VERY IMPORTANT!\n",
      "(Ok, it wasn't *that* important)\n",
      "\n",
      "\n",
      "EXAMPLE HEADER\n",
      "==============\n",
      "\n",
      "Since this is the first header noticed (all caps, underlined with an\n",
      "\"=\"), it will be a level 1 header.  It gets an anchor named\n",
      "\"section_1\".\n",
      "\n",
      "Another example\n",
      "===============\n",
      "This is the second type of header (not all caps, underlined with \"=\").\n",
      "It gets an anchor named \"section_1_1\".\n",
      "\n",
      "Yet another example\n",
      "===================\n",
      "\n",
      "This header was in the same style, so it was assigned the same header\n",
      "tag.  Note the anchor names in the HTML. (You probably can't see them\n",
      "in your current document view.)  Its anchor is named \"section_1_2\". \n",
      "Get the picture?\n",
      "\n",
      "\n",
      "\n",
      "                    -- This is a custom header --\n",
      "\n",
      "You can define your own custom header patterns if you know what your\n",
      "documents look like.\n",
      "\n",
      "\n",
      "\n",
      "Features of HTML::TextToHTML\n",
      "============================\n",
      "\n",
      " * Handles different kinds of lists\n",
      "   1. Bulleted\n",
      "   2. Numbered\n",
      "      - You can nest them as far as you want.\n",
      "      - It's pretty decent about figuring out which level of list it\n",
      "        is supposed to be on.\n",
      "        - You don't need to change bullet markers to start a new list.\n",
      "   3. Lettered\n",
      "      A. Finally handles lettered lists\n",
      "      B. Upper and lower case both work\n",
      "         a) Here's an example\n",
      "         b) I've been meaning to add this for some time.\n",
      "      C. HTML without CSS can't specify how ordered lists should be\n",
      "        indicated, so it will be a numbered list in most browsers.\n",
      "   4. Definition lists (see below)\n",
      " * Doesn't screw up mail-ish things\n",
      " * Spots preformated text\n",
      "\n",
      "                 It just needs to have enough whitespace in the line.\n",
      "        Surrounding blank lines aren't necessary.  If it sees enough\n",
      "        whitespace in a line, it preformats it.  How much is enough?\n",
      "        Set it yourself at command line if you want.\n",
      "\n",
      " * You can append a file automatically to all converted files.  This\n",
      "   is handy for adding signatures to your documents.\n",
      "\n",
      " * Deals with paragraphs decently.\n",
      "\n",
      "   Looks for short lines in the middle of paragraphs and keeps them\n",
      "   short with the use of breaks (<BR>).  How short the lines need to\n",
      "   be is configurable.\n",
      "\n",
      "   Unhyphenates split words that are in the middle of para-\n",
      "   graphs.  Let me know if trailing punctuation isn't handled \"prop-\n",
      "   erly\".  It should be.\n",
      "\n",
      "   One can also have multi-paragraph list items, like this one.\n",
      "\n",
      " * Puts anchors at all headers and, if you're using the mail header\n",
      "   features, at the beginning of each mail message.  The anchor names\n",
      "   for headings are based on guessed section numbers.  \n",
      "   - You can turn off this option too, if you don't like it.\n",
      "\n",
      " * Groks Mosaic-style \"formatted text\" headers (like the one below)\n",
      "\n",
      " * Can hyperlink things according to a dictionary file.\n",
      "   The sample dictionary handles URLs like http://www.aigeek.com/ and\n",
      "   <http://www.katspace.com/> and also shows how to do simpler\n",
      "   things such as linking the word txt2html the first time it appeared.\n",
      " * One can also use the link-dictionary to define custom tags, for\n",
      "   example using the star character to indicate *italics*.\n",
      "\n",
      " * Recognises and parses tables of different types:\n",
      "   o DELIM: A table determined by delimiters.\n",
      "   o ALIGN: No need for fancy delimiters, this figures out\n",
      "     a table by looking at the layout, the spacing of the cells.\n",
      "   o BORDER: has a nice border around the table\n",
      "   o PGSQL: the same format as Postgresql query results.\n",
      "\n",
      " * Also with XHTML!  Turn on the --xhtml option and it will ensure that\n",
      "   all paragraphs and list items have end-tags, all tags are in\n",
      "   lower-case, and the doctype is for XHTML.\n",
      "\n",
      "Example of short lines\n",
      "----------------------\n",
      "\n",
      "We're the knights of the round table\n",
      "We dance whene'er we're able\n",
      "We do routines and chorus scenes\n",
      "With footwork impeccable.\n",
      "We dine well here in Camelot\n",
      "We eat ham and jam and spam a lot.\n",
      "\n",
      "Example of varied formatting\n",
      "----------------------------\n",
      "\n",
      "If I want to *emphasize* something, then I'd use stars to wrap\n",
      "around the words, *even if there were more than one*, *that's*\n",
      "what I'd do.  But I could also _underline_ words, so long as\n",
      "the darn thing was not a_variable_name, in which case I wouldn't\n",
      "want to lose the underscores in something which thought it was\n",
      "underlining.  Though we might want to _underline more than one word_\n",
      "in a sentence.  Especially if it is _The Title Of A Book_.\n",
      "For another kind of emphasis, let's go and #put something in bold#.\n",
      "   But it doesn't even need to be that simple. Something which is *really\n",
      "exciting* is coping with italics and similar things *spread across\n",
      "multiple lines*.\n",
      "\n",
      "Example of Long Preformatting\n",
      "-----------------------------\n",
      "\n",
      "(extract from Let It Rain by Kristen Hall)\n",
      "\n",
      "\tI have given, I have given and got none\n",
      "\tStill I'm driven by something I can't explain\n",
      "\tIt's not a cross, it is a choice\n",
      "\tI cannot help but hear his voice\n",
      "\tI only wish that I could listen without shame\n",
      "\n",
      "\tLet it rain, let it rain, on me\n",
      "\tLet it rain, oh let it rain,\n",
      "\tLet it rain, on me\n",
      "\n",
      "\tI have been a witness to the perfect crime\n",
      "\tWipe the grin off of my face to hide the pain\n",
      "\tIt isn't worth the tears you cry\n",
      "\tTo have a perfect alibi\n",
      "\tNow I'm beaten at the hands of my own game\n",
      "\n",
      "\tLet it rain, let it rain, on me\n",
      "\tLet it rain, oh let it rain,\n",
      "\tLet it rain, on me\n",
      "\n",
      "Definition Lists\n",
      "----------------\n",
      "\n",
      "A definition list comprises the following:\n",
      "\n",
      "Term:\n",
      "  The term part of a DL item is a word on a line by itself, ending\n",
      "with a colon.\n",
      "Definition:\n",
      "The definition part of a DL item is at least one paragraph following\n",
      "the term.\n",
      "\n",
      "  If one has more than one paragraph in the definition, the first line of\n",
      "the next paragraph needs to be indented two spaces from where the term\n",
      "starts, otherwise we don't know that it belongs to the definition.\n",
      "\n",
      "Examples of Tables\n",
      "------------------\n",
      "\n",
      "ALIGN\n",
      "~~~~~\n",
      "\n",
      "Here is a simple ALIGN table:\n",
      "\n",
      "    -e  File exists.\n",
      "    -z  File has zero size.\n",
      "    -s  File has nonzero size (returns size).\n",
      "\n",
      "Here are some of the conditions of ALIGN tables:\n",
      "\n",
      "  #Context:#  A table needs to be surrounded by blank lines.\n",
      "   #Length:#  A table must contain at least two rows.\n",
      "    #Width:#  A table must contain at least two columns.\n",
      "  #Spacing:#  There needs to be at least two spaces between the columns,\n",
      "              otherwise there might be some random paragraph which\n",
      "              could have inter-word spacing that lined up by accident.\n",
      "#Cell Size:#  If you have more than one line (as just above) then\n",
      "              you will simply get empty cells where the other column is empty.\n",
      "#Alignment:#  Alignment of cells is attempted to be preserved.\n",
      "\n",
      "BORDER\n",
      "~~~~~~\n",
      "\n",
      "This is a table with a border.\n",
      "\n",
      "\t+---------+-----+\n",
      "\t| Food    | Qty |\n",
      "\t+---------+-----+\n",
      "\t| Bread   |   1 |\n",
      "\t| Milk    |   1 |\n",
      "\t| Oranges |   3 |\n",
      "\t| Apples  |   6 |\n",
      "\t+---------+-----+\n",
      "\n",
      "PGSQL\n",
      "~~~~~~\n",
      "\n",
      "This is the same table like Postgresql would make it.\n",
      "\n",
      "\t Food    | Qty \n",
      "\t---------+-----\n",
      "\t Bread   |   1 \n",
      "\t Milk    |   1 \n",
      "\t Oranges |   3 \n",
      "\t Apples  |   6 \n",
      "\t(4 rows)\n",
      "\n",
      "DELIM\n",
      "~~~~~\n",
      "\n",
      "A delimited table needs to have its delimiters at the start and end,\n",
      "just to be sure that this is a table.\n",
      "\n",
      ":Fred:Nurk:58:\n",
      ":George:Washington:62:\n",
      ":Mary:Quant:35:\n",
      "\n",
      "And one can have almost any delimiter one wishes.\n",
      "\n",
      "| Darcy, Fitzwilliam | hero    |\n",
      "| Bennet, Elizabeth  | heroine |\n",
      "| Wickham, George    | villain |\n",
      "\n",
      "THINGS TO DO\n",
      "============\n",
      "\n",
      "There are some things which this module doesn't handle yet which\n",
      "I would like to implement.\n",
      "\n",
      "A. I would like to be able to preserve lettered lists, that is:\n",
      "   a) recognise that they are letters and not numbers (which it already\n",
      "      does)\n",
      "   b) display the correct OL properties with CSS so as to preserve\n",
      "      that information.\n",
      "\n",
      "----------------------------------------\n",
      "\n",
      "The footer is everything from the end of this sentence to the\n",
      "</BODY> tag.\n",
      "\n",
      "\n"
     ]
    }
   ],
   "source": [
    "# Verify if the copy is successfully executed\n",
    "\n",
    "with open(filename,'r') as testwritefile:\n",
    "    print(testwritefile.read())"
   ]
  },
  {
   "cell_type": "markdown",
   "metadata": {},
   "source": [
    " After reading files, we can also write data into files and save them in different file formats like **.txt, .csv, .xls (for excel files) etc**. Let's take a look at some examples."
   ]
  },
  {
   "cell_type": "markdown",
   "metadata": {},
   "source": [
    "Now go to the directory to ensure the <b>.txt</b> file exists and contains the summary data that we wrote."
   ]
  },
  {
   "cell_type": "markdown",
   "metadata": {},
   "source": [
    "<hr>\n",
    "<h2>The last exercise!</h2>\n",
    "<p>Congratulations, you have completed your first lesson and hands-on lab in Python. However, there is one more thing you need to do. The Data Science community encourages sharing work. The best way to share and showcase your work is to share it on GitHub. By sharing your notebook on GitHub you are not only building your reputation with fellow data scientists, but you can also show it off when applying for a job. Even though this was your first piece of work, it is never too early to start building good habits. So, please read and follow <a href=\"https://cognitiveclass.ai/blog/data-scientists-stand-out-by-sharing-your-notebooks/\" target=\"_blank\">this article</a> to learn how to share your work.\n",
    "<hr>"
   ]
  },
  {
   "cell_type": "markdown",
   "metadata": {},
   "source": [
    "<div class=\"alert alert-block alert-info\" style=\"margin-top: 20px\">\n",
    "<h2>Get IBM Watson Studio free of charge!</h2>\n",
    "    <p><a href=\"https://cocl.us/NotebooksPython101bottom\"><img src=\"https://s3-api.us-geo.objectstorage.softlayer.net/cf-courses-data/CognitiveClass/PY0101EN/Ad/BottomAd.png\" width=\"750\" align=\"center\"></a></p>\n",
    "</div>"
   ]
  },
  {
   "cell_type": "markdown",
   "metadata": {},
   "source": [
    "<h3>About the Authors:</h3>  \n",
    "<p><a href=\"https://www.linkedin.com/in/joseph-s-50398b136/\" target=\"_blank\">Joseph Santarcangelo</a> is a Data Scientist at IBM, and holds a PhD in Electrical Engineering. His research focused on using Machine Learning, Signal Processing, and Computer Vision to determine how videos impact human cognition. Joseph has been working for IBM since he completed his PhD.</p>"
   ]
  },
  {
   "cell_type": "markdown",
   "metadata": {},
   "source": [
    "Other contributors: <a href=\"www.linkedin.com/in/jiahui-mavis-zhou-a4537814a\">Mavis Zhou</a>"
   ]
  },
  {
   "cell_type": "markdown",
   "metadata": {},
   "source": [
    "<hr>"
   ]
  },
  {
   "cell_type": "markdown",
   "metadata": {},
   "source": [
    "<p>Copyright &copy; 2018 IBM Developer Skills Network. This notebook and its source code are released under the terms of the <a href=\"https://cognitiveclass.ai/mit-license/\">MIT License</a>.</p>"
   ]
  }
 ],
 "metadata": {
  "kernelspec": {
   "display_name": "Python 3",
   "language": "python",
   "name": "python3"
  },
  "language_info": {
   "codemirror_mode": {
    "name": "ipython",
    "version": 3
   },
   "file_extension": ".py",
   "mimetype": "text/x-python",
   "name": "python",
   "nbconvert_exporter": "python",
   "pygments_lexer": "ipython3",
   "version": "3.8.5"
  }
 },
 "nbformat": 4,
 "nbformat_minor": 4
}
